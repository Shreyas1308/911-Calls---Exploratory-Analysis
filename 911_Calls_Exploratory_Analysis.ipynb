{
  "nbformat": 4,
  "nbformat_minor": 0,
  "metadata": {
    "colab": {
      "name": "911 Calls - Exploratory Analysis.ipynb",
      "provenance": []
    },
    "kernelspec": {
      "name": "python3",
      "display_name": "Python 3"
    },
    "language_info": {
      "name": "python"
    }
  },
  "cells": [
    {
      "cell_type": "markdown",
      "metadata": {
        "id": "kLg2k6h8bgpB"
      },
      "source": [
        "# **911 Exploratory Analysis Project**\n",
        "For this project we'll analyze the 911 call dataset from Kaggle. The data contains the following fields:\n",
        "\n",
        "* lat : String variable, Latitude\n",
        "* lng: String variable, Longitude\n",
        "* desc: String variable, Description of the Emergency Call\n",
        "* zip: String variable, Zipcode\n",
        "* title: String variable, Title\n",
        "* timeStamp: String variable, YYYY-MM-DD HH:MM:SS\n",
        "* twp: String variable, Township\n",
        "* addr: String variable, Address\n",
        "* e: String variable, Dummy variable (always 1)\n",
        "\n",
        "Let's start with some data analysis and visualisation imports."
      ]
    },
    {
      "cell_type": "code",
      "metadata": {
        "id": "EZs0idkjZDWl"
      },
      "source": [
        "import numpy as np\n",
        "import pandas as pd"
      ],
      "execution_count": null,
      "outputs": []
    },
    {
      "cell_type": "code",
      "metadata": {
        "id": "0QpsHprzd3fM"
      },
      "source": [
        "import matplotlib.pyplot as plt\n",
        "import seaborn as sns\n",
        "%matplotlib inline\n",
        "\n",
        "sns.set_style('whitegrid')\n",
        "\n",
        "plt.rcParams['figure.figsize'] = (6, 4)"
      ],
      "execution_count": null,
      "outputs": []
    },
    {
      "cell_type": "code",
      "metadata": {
        "id": "axtveH2deYKb"
      },
      "source": [
        "#Reading the data\n",
        "df = pd.read_csv('data/911.csv')"
      ],
      "execution_count": null,
      "outputs": []
    },
    {
      "cell_type": "code",
      "metadata": {
        "id": "Ez1abGOZeZgj"
      },
      "source": [
        "df.info()"
      ],
      "execution_count": null,
      "outputs": []
    },
    {
      "cell_type": "code",
      "metadata": {
        "id": "9HxrMn9uevoH"
      },
      "source": [
        "#Checking the head of the dataframe\n",
        "df.head()"
      ],
      "execution_count": null,
      "outputs": []
    },
    {
      "cell_type": "markdown",
      "metadata": {
        "id": "JGqSODPhe1hB"
      },
      "source": [
        "\n",
        "# **Basic Analysis**\n",
        "Let's check out the top 5 zipcodes for calls."
      ]
    },
    {
      "cell_type": "code",
      "metadata": {
        "id": "sy_m79xre3vu"
      },
      "source": [
        "df['zip'].value_counts().head(5)"
      ],
      "execution_count": null,
      "outputs": []
    },
    {
      "cell_type": "code",
      "metadata": {
        "id": "m7oV9DjUfM9f"
      },
      "source": [
        "df['twp'].value_counts().head(5)"
      ],
      "execution_count": null,
      "outputs": []
    },
    {
      "cell_type": "code",
      "metadata": {
        "id": "o8iGE-FnfRLW"
      },
      "source": [
        "df['title'].nunique()"
      ],
      "execution_count": null,
      "outputs": []
    },
    {
      "cell_type": "markdown",
      "metadata": {
        "id": "6uE29NvLfUzN"
      },
      "source": [
        "# **Data Wrangling for Feature Creation**\n",
        "We can extract some generalised features from the columns in our dataset for further analysis.\n",
        "\n",
        "In the title column, there's a kind of 'subcategory' or 'reason for call' alloted to each entry (denoted by the text before the colon).\n",
        "\n",
        "The timestamp column can be further segregated into Year, Month and Day of Week too.\n",
        "\n",
        "Let's start with creating a 'Reason' feature for each call."
      ]
    },
    {
      "cell_type": "code",
      "metadata": {
        "id": "P6GsR4U6fX9l"
      },
      "source": [
        "df['Reason'] = df['title'].apply(lambda x: x.split(':')[0])"
      ],
      "execution_count": null,
      "outputs": []
    },
    {
      "cell_type": "code",
      "metadata": {
        "id": "F7u-x7nKfsfu"
      },
      "source": [
        "df.tail()"
      ],
      "execution_count": null,
      "outputs": []
    },
    {
      "cell_type": "markdown",
      "metadata": {
        "id": "b9i0hNl1f2bw"
      },
      "source": [
        "\n",
        "Now, let's find out the most common reason for 911 calls, according to our dataset."
      ]
    },
    {
      "cell_type": "code",
      "metadata": {
        "id": "bo3y1ToJf3Om"
      },
      "source": [
        "df['Reason'].value_counts()"
      ],
      "execution_count": null,
      "outputs": []
    },
    {
      "cell_type": "code",
      "metadata": {
        "id": "60CpE2evgMb2"
      },
      "source": [
        "sns.countplot(df['Reason'])"
      ],
      "execution_count": null,
      "outputs": []
    },
    {
      "cell_type": "markdown",
      "metadata": {
        "id": "YNhgMgergSrO"
      },
      "source": [
        "Let's deal with the time information we have. Checking the datatype of the timestamp column."
      ]
    },
    {
      "cell_type": "code",
      "metadata": {
        "id": "8X4CVs1pgTbu"
      },
      "source": [
        "type(df['timeStamp'][0])"
      ],
      "execution_count": null,
      "outputs": []
    },
    {
      "cell_type": "markdown",
      "metadata": {
        "id": "CpR8HZ2mgi1i"
      },
      "source": [
        "As the timestamps are still string types, it'll make our life easier if we convert it to a python DateTime object, so we can extract the year, month, and day information more intuitively."
      ]
    },
    {
      "cell_type": "code",
      "metadata": {
        "id": "ZH0901eHgjom"
      },
      "source": [
        "df['timeStamp'] = pd.to_datetime(df['timeStamp'])"
      ],
      "execution_count": null,
      "outputs": []
    },
    {
      "cell_type": "code",
      "metadata": {
        "id": "wd0jQRwbgqD_"
      },
      "source": [
        "time = df['timeStamp'].iloc[0]\n",
        "\n",
        "print('Hour:',time.hour)\n",
        "print('Month:',time.month)\n",
        "print('Day of Week:',time.dayofweek)"
      ],
      "execution_count": null,
      "outputs": []
    },
    {
      "cell_type": "markdown",
      "metadata": {
        "id": "ttlVfblUgupG"
      },
      "source": [
        "Now let's create new features for the above pieces of information."
      ]
    },
    {
      "cell_type": "code",
      "metadata": {
        "id": "ECkagFj9gvUm"
      },
      "source": [
        "df['Hour'] = df['timeStamp'].apply(lambda x: x.hour)\n",
        "df['Month'] = df['timeStamp'].apply(lambda x: x.month)\n",
        "df['Day of Week'] = df['timeStamp'].apply(lambda x: x.dayofweek)"
      ],
      "execution_count": null,
      "outputs": []
    },
    {
      "cell_type": "code",
      "metadata": {
        "id": "PF1knudRg02u"
      },
      "source": [
        "df.head(3)"
      ],
      "execution_count": null,
      "outputs": []
    },
    {
      "cell_type": "code",
      "metadata": {
        "id": "4rf_uMHDg4dW"
      },
      "source": [
        "dmap = {0:'Mon',1:'Tue',2:'Wed',3:'Thu',4:'Fri',5:'Sat',6:'Sun'}"
      ],
      "execution_count": null,
      "outputs": []
    },
    {
      "cell_type": "code",
      "metadata": {
        "id": "S_XjUEFJg7MW"
      },
      "source": [
        "df['Day of Week'] = df['Day of Week'].map(dmap)\n",
        "\n",
        "df.tail(3)"
      ],
      "execution_count": null,
      "outputs": []
    },
    {
      "cell_type": "markdown",
      "metadata": {
        "id": "2nJAgmlOhBSO"
      },
      "source": [
        "Let's combine the newly created features, to check out the most common call reasons based on the day of the week."
      ]
    },
    {
      "cell_type": "code",
      "metadata": {
        "id": "c_WuwilBg-ju"
      },
      "source": [
        "sns.countplot(df['Day of Week'],hue=df['Reason'])\n",
        "\n",
        "plt.legend(bbox_to_anchor=(1.25,1))"
      ],
      "execution_count": null,
      "outputs": []
    },
    {
      "cell_type": "markdown",
      "metadata": {
        "id": "IxhzEfm3hF-l"
      },
      "source": [
        "\n",
        "It makes sense for the number of traffic related 911 calls to be the lowest during the weekends, what's also iteresting is that Emergency Service related calls are also low during the weekend."
      ]
    },
    {
      "cell_type": "code",
      "metadata": {
        "id": "CQKW1-75hCJn"
      },
      "source": [
        "sns.countplot(df['Month'],hue=df['Reason'])\n",
        "\n",
        "plt.legend(bbox_to_anchor=(1.25,1))"
      ],
      "execution_count": null,
      "outputs": []
    },
    {
      "cell_type": "markdown",
      "metadata": {
        "id": "n8LpqC1JhNWX"
      },
      "source": [
        "Now, let's check out the relationship between the number of calls and the month."
      ]
    },
    {
      "cell_type": "code",
      "metadata": {
        "id": "1tiE_15XhOHN"
      },
      "source": [
        "byMonth = pd.groupby(df,by='Month').count()"
      ],
      "execution_count": null,
      "outputs": []
    },
    {
      "cell_type": "code",
      "metadata": {
        "id": "c4SamAiKiOyt"
      },
      "source": [
        "byMonth['e'].plot.line(y='e')\n",
        "plt.title('Calls per Month')\n",
        "plt.ylabel('Number of Calls')"
      ],
      "execution_count": null,
      "outputs": []
    },
    {
      "cell_type": "markdown",
      "metadata": {
        "id": "nzb5fpWgiSIl"
      },
      "source": [
        "\n",
        "Using seaborn, let's fit the number of calls to a month and see if there's any concrete correlation between the two."
      ]
    },
    {
      "cell_type": "code",
      "metadata": {
        "id": "cjFS60jPiR4l"
      },
      "source": [
        "byMonth.reset_index(inplace=True)"
      ],
      "execution_count": null,
      "outputs": []
    },
    {
      "cell_type": "code",
      "metadata": {
        "id": "EAWTVLIuiYc9"
      },
      "source": [
        "sns.lmplot(x='Month',y='e',data=byMonth)\n",
        "plt.ylabel('Number of Calls')"
      ],
      "execution_count": null,
      "outputs": []
    },
    {
      "cell_type": "markdown",
      "metadata": {
        "id": "WG6dr_SnifbI"
      },
      "source": [
        "So, it does seem that there are fewer emergency calls during the holiday seasons.\n",
        "\n",
        "Let's extract the date from the timestamp, and see behavior in a little more detail."
      ]
    },
    {
      "cell_type": "code",
      "metadata": {
        "id": "c-4mIQZ7igzN"
      },
      "source": [
        "df['Date']=df['timeStamp'].apply(lambda x: x.date())"
      ],
      "execution_count": null,
      "outputs": []
    },
    {
      "cell_type": "code",
      "metadata": {
        "id": "S4Wq8EPEilqN"
      },
      "source": [
        "df.head(2)"
      ],
      "execution_count": null,
      "outputs": []
    },
    {
      "cell_type": "markdown",
      "metadata": {
        "id": "F78UaNfRioUN"
      },
      "source": [
        "\n",
        "Grouping and plotting the data:"
      ]
    },
    {
      "cell_type": "code",
      "metadata": {
        "id": "WwsL6xw1io9f"
      },
      "source": [
        "pd.groupby(df,'Date').count()['e'].plot.line(y='e')\n",
        "\n",
        "plt.legend().remove()\n",
        "plt.tight_layout()"
      ],
      "execution_count": null,
      "outputs": []
    },
    {
      "cell_type": "markdown",
      "metadata": {
        "id": "e_Da5hczixN4"
      },
      "source": [
        "We can also check out the same plot for each reason separately."
      ]
    },
    {
      "cell_type": "code",
      "metadata": {
        "id": "nq8fP6ZTiuau"
      },
      "source": [
        "pd.groupby(df[df['Reason']=='Traffic'],'Date').count().plot.line(y='e')\n",
        "plt.title('Traffic')\n",
        "plt.legend().remove()\n",
        "plt.tight_layout()"
      ],
      "execution_count": null,
      "outputs": []
    },
    {
      "cell_type": "code",
      "metadata": {
        "id": "An--iCasi5Wd"
      },
      "source": [
        "pd.groupby(df[df['Reason']=='Fire'],'Date').count().plot.line(y='e')\n",
        "plt.title('Fire')\n",
        "plt.legend().remove()\n",
        "plt.tight_layout()"
      ],
      "execution_count": null,
      "outputs": []
    },
    {
      "cell_type": "code",
      "metadata": {
        "id": "IS4x9Lsri8aw"
      },
      "source": [
        "pd.groupby(df[df['Reason']=='EMS'],'Date').count().plot.line(y='e')\n",
        "plt.title('EMS')\n",
        "plt.legend().remove()\n",
        "plt.tight_layout()"
      ],
      "execution_count": null,
      "outputs": []
    },
    {
      "cell_type": "markdown",
      "metadata": {
        "id": "Fv8h83eUjAq3"
      },
      "source": [
        "Let's create a heatmap for the counts of calls on each hour, during a given day of the week."
      ]
    },
    {
      "cell_type": "code",
      "metadata": {
        "id": "Cw1kRxH4jBgy"
      },
      "source": [
        "day_hour = df.pivot_table(values='lat',index='Day of Week',columns='Hour',aggfunc='count')\n",
        "\n",
        "day_hour"
      ],
      "execution_count": null,
      "outputs": []
    },
    {
      "cell_type": "markdown",
      "metadata": {
        "id": "sGq7bManjKrV"
      },
      "source": [
        "\n",
        "Now create a HeatMap using this new DataFrame."
      ]
    },
    {
      "cell_type": "code",
      "metadata": {
        "id": "PL6D-MsWjSd6"
      },
      "source": [
        "sns.heatmap(day_hour)\n",
        "\n",
        "plt.tight_layout()"
      ],
      "execution_count": null,
      "outputs": []
    },
    {
      "cell_type": "markdown",
      "metadata": {
        "id": "K66OXcykjZ3A"
      },
      "source": [
        "We see that most calls take place around the end of office hours on weekdays. We can create a clustermap to pair up similar Hours and Days."
      ]
    },
    {
      "cell_type": "code",
      "metadata": {
        "id": "sxuTTa8ujap3"
      },
      "source": [
        "sns.clustermap(day_hour)"
      ],
      "execution_count": null,
      "outputs": []
    },
    {
      "cell_type": "markdown",
      "metadata": {
        "id": "s3vrkjAsjh83"
      },
      "source": [
        "\n",
        "And this concludes the exploratory analysis project."
      ]
    }
  ]
}